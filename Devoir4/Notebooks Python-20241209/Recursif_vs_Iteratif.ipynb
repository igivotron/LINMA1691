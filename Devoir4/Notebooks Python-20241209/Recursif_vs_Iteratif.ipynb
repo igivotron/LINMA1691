{
 "cells": [
  {
   "cell_type": "markdown",
   "id": "d3c9b3c6",
   "metadata": {},
   "source": [
    "# Implémentations récursive vs. itérative :\n",
    "## Eviter de faire recours au récursif dans l'algorithmique (des graphes)\n",
    "\n",
    "Dans l'informatique en général et dans l'algorithmique des graphes, la récursivité est souvent utilisée pour résoudre de nombreux problèmes. \n",
    "\n",
    "Une fonction récursive, c'est simplement une fonction qui s'appelle elle-même. Cela permet de résoudre des problèmes de manière assez intuitive et simple pour le programmeur.\n",
    "\n",
    "Un exemple très basique de fonction qu'on peut logiquement implémenter de manière récursive est la fonction factorielle. Une implémentation se trouve dans la cellule ci-dessous."
   ]
  },
  {
   "cell_type": "code",
   "execution_count": 1,
   "id": "734c1670",
   "metadata": {},
   "outputs": [],
   "source": [
    "def recursive_factorial(n):\n",
    "    return recursive_factorial(n-1)*n if n > 1 else 1"
   ]
  },
  {
   "cell_type": "markdown",
   "id": "3590dd05",
   "metadata": {},
   "source": [
    "Il est toujours possible de transformer une fonction récursive en une fonction iterative et qui va donc utiliser une boucle while (ou for) au lieu de s'appeler elle-même. Dans le cas de la fonction factorielle, une forme itérative de la procédure est assez simple également:"
   ]
  },
  {
   "cell_type": "code",
   "execution_count": 11,
   "id": "4facdf0d",
   "metadata": {},
   "outputs": [
    {
     "name": "stdout",
     "output_type": "stream",
     "text": [
      "test 1: ok 4.410743713378906e-05\n",
      "test 2: ok 3.3855438232421875e-05\n"
     ]
    }
   ],
   "source": [
    "import time\n",
    "def iterative_factorial(n):\n",
    "    total = 1\n",
    "    while n > 1:\n",
    "        total *= n\n",
    "        n -= 1\n",
    "    return total\n",
    "\n",
    "# vérifions rapidement que les deux implémentations provoquent bien les mêmes résultats\n",
    "start = time.time()\n",
    "assert recursive_factorial(5) == iterative_factorial(5), \"test 1: échoué\"\n",
    "end = time.time()\n",
    "print(\"test 1: ok\", end-start)\n",
    "\n",
    "start = time.time()\n",
    "assert recursive_factorial(20) == iterative_factorial(20), \"test 2: échoué\"\n",
    "end = time.time()\n",
    "print(\"test 2: ok\", end-start)"
   ]
  },
  {
   "cell_type": "markdown",
   "id": "c16d3b78",
   "metadata": {},
   "source": [
    "Comme énoncé plus haut, il est souvent possible d'utiliser des procédures récursives dans l'algorithmique des graphes et vous pourrez trouver de nombreux pseudo-codes ou codes complets sur le web qui suggèrent ce genre d'implémentation. \n",
    "\n",
    "Cependant, l'utilisation de fonctions récursives peut poser problèmes dans certains cas. En effet, à chaque fois qu'une fonction s'appelle elle-même, cet appel ainsi que les variables locales qu'il utilise en argument sont enregistrés dans une zone de la mémoire nommée la pile d'exécution (call stack). Cet appel n'en est retiré qu'une fois l'exécution complètement terminée et donc le résultat retourné. Cela signifie qu'une fonction qui s'appelle 10000 fois d'affilée de manière récursive va ajouter 10000 enregistrements de ces appels de fonctions sur la pile. \n",
    "\n",
    "La pile ayant une taille assez limitée, elle a tendance à se remplir complètement lorsqu'on rencontre un problème trop gros ou une instance avec une forme particulière qui provoquerait une profondeur excessive de la récursivité. C'est pourquoi il est de bon usage d'opter pour des solutions itératives.\n",
    "\n",
    "Un exemple très basique de procédure que l'on peut implémenter de manière récursive ou itérative dans l'algorithmique des graphes est la recherche en profondeur (Depth-First Search ou dfs en anglais) dans un graphe dirigé et non-pondéré. Deux implémentations pour ces deux méthodes sont présentées ci-dessous."
   ]
  },
  {
   "cell_type": "code",
   "execution_count": 12,
   "id": "35d4a15a",
   "metadata": {},
   "outputs": [],
   "source": [
    "class Graph:\n",
    "    \n",
    "    def __init__(self, adj):\n",
    "        self.adj = adj # liste d'adjacence du graphe (adj[i] contient j si il y a une arête du noeud i à j)\n",
    "        self.dist = [float('inf') for i in range(len(adj))] # liste dans laquelle on enregistre la distance à chaque noeud en partant du noeud donné\n",
    "    \n",
    "    def recursive_dfs(self, u, curr_dist = 0):\n",
    "        \"\"\"\n",
    "        u : noeud exploré (noeud de départ pour le premier appel)\n",
    "        curr_dist : distance actuelle par rapport au noeud de départ (0 pour le premier appel)\n",
    "        \"\"\"\n",
    "        if self.dist[u] > curr_dist:\n",
    "            self.dist[u] = curr_dist\n",
    "            for v in self.adj[u]:\n",
    "                self.recursive_dfs(v, curr_dist + 1) # appel récursif\n",
    "                \n",
    "    def iterative_dfs(self, u):\n",
    "        \"\"\"\n",
    "        u : noeud de départ\n",
    "        \"\"\"\n",
    "        q = [] \n",
    "        q.append((u, 0)) \n",
    "        while q:\n",
    "            u, curr_dist = q.pop(-1) # on retire le dernier élément et donc le dernier ajouté pour dfs (remplace -1 par 0 pour bfs)\n",
    "            if self.dist[u] > curr_dist:\n",
    "                self.dist[u] = curr_dist\n",
    "                for v in self.adj[u]:\n",
    "                    q.append((v, curr_dist + 1))\n",
    "                    \n",
    "    def reset_dist(self):\n",
    "        \"\"\"\n",
    "        Fonction qui réinitialise la distance calculée à chaque noeud \n",
    "        \"\"\"\n",
    "        self.dist = [float('inf') for i in range(len(self.adj))]"
   ]
  },
  {
   "cell_type": "markdown",
   "id": "59303433",
   "metadata": {},
   "source": [
    "Ces deux implémentations font exactement les mêmes opérations pour obtenir le même résultat à l'exception qu'une fonction est récursive et l'autre itérative. Cela signifie qu'elles ont exactement la même complexité. Dans la cellule suivante, on met en avant la très légère différence de temps d'exécution entre les deux méthodes pour démontrer un fonctionnement très similaire, voire considérable comme équivalent.\n",
    "\n",
    "Une autre solution aurait été de compter le nombre d'opérations élémentaires (i.e. nombre de comparaisons '>', '>=', d'allocation '=', opérations '+', '-', ...) que chaque fonction provoque lors d'un appel. Ce nombre d'opération peut être approximé en comptant le nombre de tours de boucle en itératif ou bien le nombre d'appels récursifs."
   ]
  },
  {
   "cell_type": "code",
   "execution_count": 14,
   "id": "bea02fd6",
   "metadata": {},
   "outputs": [
    {
     "name": "stdout",
     "output_type": "stream",
     "text": [
      "Le dfs récursif a duré en moyenne 0.1588 secondes\n",
      "Le dfs iteratif a duré en moyenne 0.1702 secondes\n",
      "La plus grande différence de temps d'exécution observée est 0.01896 seconds\n"
     ]
    }
   ],
   "source": [
    "import random\n",
    "\n",
    "def generate_random_graph(n_node, n_edge):\n",
    "    adj = [[] for _ in range(n_node)]\n",
    "    while n_edge > 0 :\n",
    "        a, b = random.randint(0, n_node-1), random.randint(0, n_node-1)\n",
    "        if b not in adj[a] :\n",
    "            adj[a].append(b)\n",
    "            n_edge -= 1\n",
    "    return Graph(adj)\n",
    "\n",
    "import time\n",
    "import matplotlib.pyplot as plt\n",
    "import numpy as np\n",
    "\n",
    "dt_rec = []\n",
    "dt_ite = []\n",
    "\n",
    "for i in range(10):\n",
    "    G = generate_random_graph(500, 10000)\n",
    "\n",
    "    t_start = time.time()\n",
    "    G.recursive_dfs(0)\n",
    "    t_end = time.time()\n",
    "    dt_rec.append(t_end - t_start) \n",
    "    recursive_dist = G.dist\n",
    "\n",
    "    G.reset_dist()\n",
    "\n",
    "    t_start = time.time()\n",
    "    G.iterative_dfs(0)\n",
    "    t_end = time.time()\n",
    "    dt_ite.append(t_end - t_start) \n",
    "    iterative_dist = G.dist\n",
    "\n",
    "    assert recursive_dist == iterative_dist\n",
    "\n",
    "\n",
    "print(f'Le dfs récursif a duré en moyenne {np.mean(dt_rec):.4} secondes')\n",
    "print(f'Le dfs iteratif a duré en moyenne {np.mean(dt_ite):.4} secondes')\n",
    "print(f\"La plus grande différence de temps d'exécution observée est {np.max(np.abs(np.array(dt_rec) - np.array(dt_ite))):.4} seconds\")"
   ]
  },
  {
   "cell_type": "markdown",
   "id": "21b93069",
   "metadata": {},
   "source": [
    "Maintenant que l'on sait que les deux algorithmes donnent bien les mêmes résultats et ont la même complexité, il ne reste plus qu'à montrer pourquoi l'utilisation de la récursivité peut poser problème dans le cas où une récursion trop profonde serait observée. Ceci peut se faire très simplement dans notre cas via l'utilisation de nos fonctions sur des graphes chemins."
   ]
  },
  {
   "cell_type": "code",
   "execution_count": 16,
   "id": "92c076a8",
   "metadata": {},
   "outputs": [
    {
     "name": "stdout",
     "output_type": "stream",
     "text": [
      "Aucun souci pour l'algorithme récursif sur le chemin à 10 noeuds\n",
      "Aucun souci pour l'algorithme récursif sur le chemin à 100 noeuds\n",
      "Aucun souci pour l'algorithme récursif sur le chemin à 1000 noeuds\n",
      "La pile d'exécution a débordé car trop de niveaux de récursion avec le chemin à 10000 noeuds\n"
     ]
    }
   ],
   "source": [
    "def generate_path_graph(n_node):\n",
    "    adj = [[i+1] if i < n_node-1 else [] for i in range(n_node)]\n",
    "    return Graph(adj)\n",
    "\n",
    "for n_node in [10, 100, 1000, 10000, 100000, 1000000]:\n",
    "\n",
    "    G = generate_path_graph(n_node)\n",
    "    \n",
    "    G.iterative_dfs(0)\n",
    "    iterative_dist = G.dist\n",
    "    \n",
    "    G.reset_dist()\n",
    "    \n",
    "    try:\n",
    "        G.recursive_dfs(0)\n",
    "    except RecursionError:\n",
    "        print(f\"La pile d'exécution a débordé car trop de niveaux de récursion avec le chemin à {n_node} noeuds\")\n",
    "        break\n",
    "        \n",
    "    recursive_dist = G.dist\n",
    "    assert iterative_dist == recursive_dist\n",
    "    print(f\"Aucun souci pour l'algorithme récursif sur le chemin à {n_node} noeuds\")"
   ]
  }
 ],
 "metadata": {
  "kernelspec": {
   "display_name": "Python 3",
   "language": "python",
   "name": "python3"
  },
  "language_info": {
   "codemirror_mode": {
    "name": "ipython",
    "version": 3
   },
   "file_extension": ".py",
   "mimetype": "text/x-python",
   "name": "python",
   "nbconvert_exporter": "python",
   "pygments_lexer": "ipython3",
   "version": "3.12.0"
  }
 },
 "nbformat": 4,
 "nbformat_minor": 5
}
